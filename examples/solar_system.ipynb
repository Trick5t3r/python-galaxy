{
 "cells": [
  {
   "cell_type": "code",
   "execution_count": null,
   "id": "6ff8cc2c",
   "metadata": {},
   "outputs": [],
   "source": [
    "import numpy as np\n",
    "import plotly.graph_objects as go\n",
    "import plotly.io as pio\n",
    "pio.templates.default = \"seaborn\""
   ]
  },
  {
   "cell_type": "code",
   "execution_count": null,
   "id": "5255dff8",
   "metadata": {},
   "outputs": [],
   "source": [
    "import sys\n",
    "sys.path.append(\"..\")\n",
    "from pygalaxy import Euler_symplectic, ADB6\n",
    "#from pygalaxy.barnes_hut_array import compute_energy\n",
    "from pygalaxy.naive import compute_energy"
   ]
  },
  {
   "cell_type": "code",
   "execution_count": null,
   "id": "4d4e63f7",
   "metadata": {},
   "outputs": [],
   "source": [
    "def init_solar_system():\n",
    "    \n",
    "    bodies = np.array([[        0, 0, 0,      0], #sun\n",
    "                       [    -46e9, 0, 0, -58980], #mercury\n",
    "                       [ -10748e7, 0, 0, -35260], #venus\n",
    "                       [-147095e6, 0, 0, -30300], #earth\n",
    "                       [ -20662e7, 0, 0, -26500], #mars\n",
    "                       #[ -74052e7, 0, 0, -13720], #jupiter\n",
    "                       #[-135255e7, 0, 0, -10180], #saturn\n",
    "                       #[ -27413e8, 0, 0,  -7110], #uranus\n",
    "                       #[-444445e7, 0, 0,  -5500], #neptune\n",
    "                      ])\n",
    "\n",
    "    mass = np.array([   1.989e30, # sun\n",
    "                      0.33011e24, #mercury\n",
    "                       4.8675e24, #venus\n",
    "                        5.972e24, #earth\n",
    "                       6.4171e23, #mars\n",
    "                      #1898.19e24, #jupiter\n",
    "                      # 568.34e24, #saturn\n",
    "                      # 86.813e24, #uranus\n",
    "                      #102.413e24, #neptune \n",
    "                     ])\n",
    "\n",
    "    return mass, bodies"
   ]
  },
  {
   "cell_type": "code",
   "execution_count": null,
   "id": "bbf353e7",
   "metadata": {
    "scrolled": false
   },
   "outputs": [],
   "source": [
    "dt = 86400  # 1 day in seconds\n",
    "\n",
    "mass, particles = init_solar_system()\n",
    "\n",
    "nbodies = particles.shape[0]\n",
    "##print(\"nb bodies =\", nbodies)\n",
    "\n",
    "nt = 1000\n",
    "\n",
    "time_method = Euler_symplectic(dt, nbodies, compute_energy)\n",
    "#time_method = ADB6(dt, nbodies, compute_energy)\n",
    "\n",
    "coords = np.zeros((nt, *particles[:, :2].shape))\n",
    "coords[0] = particles[:, :2]\n",
    "\n",
    "velocities = np.zeros((nt, *particles[:, 2:].shape))\n",
    "velocities[0] = particles[:, 2:]\n",
    "\n",
    "for i in range(nt-1):\n",
    "    time_method.update(mass, particles)\n",
    "    coords[i+1] = particles[:, :2]\n",
    "    velocities[i+1] = particles[:, 2:]\n",
    "\n",
    "fig = go.Figure()\n",
    "\n",
    "planets = ['sun', 'mercury', 'venus', 'earth', 'mars', 'jupiter', \n",
    "           'saturn', 'uranus', 'neptune']\n",
    "\n",
    "for i in range(5):\n",
    "    if i==0: mode='markers'\n",
    "    else: mode='lines'\n",
    "    fig.add_trace(go.Scattergl(x=coords[:,i,0], y=coords[:,i,1], mode=mode, name=planets[i]))\n",
    "    #fig.add_trace(go.Scattergl(x=[coords[-1,i,0]], y=[coords[-1,i,1]], mode='markers', showlegend=False, marker_color='grey'))\n",
    "\n",
    "\n",
    "fig.update_layout(title='Solar system')\n",
    "fig.update_xaxes(title='x', exponentformat='e')\n",
    "fig.update_yaxes(title='y', exponentformat='e')\n",
    "fig.show()"
   ]
  }
 ],
 "metadata": {
  "kernelspec": {
   "display_name": "Python 3 (ipykernel)",
   "language": "python",
   "name": "python3"
  },
  "language_info": {
   "codemirror_mode": {
    "name": "ipython",
    "version": 3
   },
   "file_extension": ".py",
   "mimetype": "text/x-python",
   "name": "python",
   "nbconvert_exporter": "python",
   "pygments_lexer": "ipython3",
   "version": "3.10.6"
  },
  "vscode": {
   "interpreter": {
    "hash": "b0fa6594d8f4cbf19f97940f81e996739fb7646882a419484c72d19e05852a7e"
   }
  }
 },
 "nbformat": 4,
 "nbformat_minor": 5
}
