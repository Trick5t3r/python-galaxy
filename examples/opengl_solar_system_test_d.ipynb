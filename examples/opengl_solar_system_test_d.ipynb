{
 "cells": [
  {
   "cell_type": "code",
   "execution_count": 5,
   "metadata": {},
   "outputs": [
    {
     "ename": "NullFunctionError",
     "evalue": "Attempt to call an undefined function glutInitDisplayMode, check for bool(glutInitDisplayMode) before calling",
     "output_type": "error",
     "traceback": [
      "\u001b[1;31m---------------------------------------------------------------------------\u001b[0m",
      "\u001b[1;31mNullFunctionError\u001b[0m                         Traceback (most recent call last)",
      "Cell \u001b[1;32mIn[5], line 51\u001b[0m\n\u001b[0;32m     49\u001b[0m \u001b[38;5;66;03m# Initialize simulation and animation\u001b[39;00m\n\u001b[0;32m     50\u001b[0m simu \u001b[38;5;241m=\u001b[39m SolarSystemSim(mass, bodies, dt)\n\u001b[1;32m---> 51\u001b[0m anim \u001b[38;5;241m=\u001b[39m \u001b[43mAnimation\u001b[49m\u001b[43m(\u001b[49m\u001b[43msimu\u001b[49m\u001b[43m,\u001b[49m\u001b[43m \u001b[49m\u001b[43maxis\u001b[49m\u001b[38;5;241;43m=\u001b[39;49m\u001b[43m[\u001b[49m\u001b[38;5;241;43m-\u001b[39;49m\u001b[38;5;241;43m1.5e11\u001b[39;49m\u001b[43m,\u001b[49m\u001b[43m \u001b[49m\u001b[38;5;241;43m1.5e11\u001b[39;49m\u001b[43m,\u001b[49m\u001b[43m \u001b[49m\u001b[38;5;241;43m-\u001b[39;49m\u001b[38;5;241;43m1.5e11\u001b[39;49m\u001b[43m,\u001b[49m\u001b[43m \u001b[49m\u001b[38;5;241;43m1.5e11\u001b[39;49m\u001b[43m,\u001b[49m\u001b[43m \u001b[49m\u001b[38;5;241;43m-\u001b[39;49m\u001b[38;5;241;43m1.5e11\u001b[39;49m\u001b[43m,\u001b[49m\u001b[43m \u001b[49m\u001b[38;5;241;43m1.5e11\u001b[39;49m\u001b[43m]\u001b[49m\u001b[43m,\u001b[49m\u001b[43m \u001b[49m\u001b[43msize\u001b[49m\u001b[38;5;241;43m=\u001b[39;49m\u001b[43m[\u001b[49m\u001b[38;5;241;43m800\u001b[39;49m\u001b[43m,\u001b[49m\u001b[43m \u001b[49m\u001b[38;5;241;43m800\u001b[39;49m\u001b[43m]\u001b[49m\u001b[43m,\u001b[49m\u001b[43m \u001b[49m\u001b[43mdim\u001b[49m\u001b[38;5;241;43m=\u001b[39;49m\u001b[43mdim\u001b[49m\u001b[43m)\u001b[49m\n\u001b[0;32m     52\u001b[0m anim\u001b[38;5;241m.\u001b[39mmain_loop()\n",
      "File \u001b[1;32mc:\\Users\\snips\\TricksterPC_Drive\\SynologyDrive\\Documents\\sd_project\\python-galaxy\\examples\\..\\pygalaxy\\d_opengl.py:56\u001b[0m, in \u001b[0;36mAnimation.__init__\u001b[1;34m(self, simu, axis, size, dim, title, use_colors, update_colors, use_adaptative_opacity, start_paused)\u001b[0m\n\u001b[0;32m     53\u001b[0m glutInit(sys\u001b[38;5;241m.\u001b[39margv)\n\u001b[0;32m     55\u001b[0m \u001b[38;5;66;03m# Initial display mode (RGBA colors and double buffered window)\u001b[39;00m\n\u001b[1;32m---> 56\u001b[0m \u001b[43mglutInitDisplayMode\u001b[49m\u001b[43m(\u001b[49m\u001b[43mGLUT_RGBA\u001b[49m\u001b[43m \u001b[49m\u001b[38;5;241;43m|\u001b[39;49m\u001b[43m \u001b[49m\u001b[43mGLUT_DOUBLE\u001b[49m\u001b[43m)\u001b[49m\n\u001b[0;32m     58\u001b[0m \u001b[38;5;66;03m# Initial window\u001b[39;00m\n\u001b[0;32m     59\u001b[0m glutInitWindowSize(size[\u001b[38;5;241m0\u001b[39m], size[\u001b[38;5;241m1\u001b[39m])\n",
      "File \u001b[1;32mc:\\Users\\snips\\TricksterPC_Drive\\SynologyDrive\\Documents\\sd_project\\python-galaxy\\.venv\\Lib\\site-packages\\OpenGL\\platform\\baseplatform.py:423\u001b[0m, in \u001b[0;36m_NullFunctionPointer.__call__\u001b[1;34m(self, *args, **named)\u001b[0m\n\u001b[0;32m    421\u001b[0m     \u001b[38;5;28;01mpass\u001b[39;00m\n\u001b[0;32m    422\u001b[0m \u001b[38;5;28;01melse\u001b[39;00m:\n\u001b[1;32m--> 423\u001b[0m     \u001b[38;5;28;01mraise\u001b[39;00m error\u001b[38;5;241m.\u001b[39mNullFunctionError(\n\u001b[0;32m    424\u001b[0m \u001b[38;5;250m        \u001b[39m\u001b[38;5;124;03m\"\"\"Attempt to call an undefined function %s, check for bool(%s) before calling\"\"\"\u001b[39;00m\u001b[38;5;241m%\u001b[39m(\n\u001b[0;32m    425\u001b[0m             \u001b[38;5;28mself\u001b[39m\u001b[38;5;241m.\u001b[39m\u001b[38;5;18m__name__\u001b[39m, \u001b[38;5;28mself\u001b[39m\u001b[38;5;241m.\u001b[39m\u001b[38;5;18m__name__\u001b[39m,\n\u001b[0;32m    426\u001b[0m         )\n\u001b[0;32m    427\u001b[0m     )\n",
      "\u001b[1;31mNullFunctionError\u001b[0m: Attempt to call an undefined function glutInitDisplayMode, check for bool(glutInitDisplayMode) before calling"
     ]
    }
   ],
   "source": [
    "\n",
    "import numpy as np\n",
    "import sys\n",
    "sys.path.append(\"..\")\n",
    "from pygalaxy.d_opengl import Animation\n",
    "from pygalaxy.d_forces import force\n",
    "from pygalaxy.d_init import init_solar_system\n",
    "                    \n",
    "planets = ['sun', 'mercury', 'venus', 'earth', 'mars']\n",
    "\n",
    "\n",
    "# Method for calculating forces\n",
    "def compute_forces(mass, particles, output, dim=3):\n",
    "    n = particles.shape[0]\n",
    "    output.fill(0)\n",
    "    for i in range(n):\n",
    "        for j in range(n):\n",
    "            if i != j:\n",
    "                f = force(particles[i, :dim], particles[j, :dim], mass[j], dim)\n",
    "                output[i, :dim] += f\n",
    "    output[:, dim:] = particles[:, dim:]\n",
    "\n",
    "# Symplectic Euler integrator\n",
    "def euler_symplectic(dt, mass, particles, dim=3):\n",
    "    forces = np.zeros_like(particles)\n",
    "    compute_forces(mass, particles, forces, dim)\n",
    "    particles[:, dim:] += dt * forces[:, dim:]\n",
    "    compute_forces(mass, particles, forces, dim)\n",
    "    particles[:, :dim] += dt * forces[:, :dim]\n",
    "\n",
    "# Main function\n",
    "if __name__ == '__main__':\n",
    "    dim = 2\n",
    "    mass, bodies = init_solar_system(dim=dim)\n",
    "    dt = 60 * 60  # One hour timestep\n",
    "\n",
    "    # Wrap the simulation in a class\n",
    "    class SolarSystemSim:\n",
    "        def __init__(self, mass, bodies, dt):\n",
    "            self.mass = mass\n",
    "            self.particles = bodies\n",
    "            self.dt = dt\n",
    "\n",
    "        def next(self):\n",
    "            euler_symplectic(self.dt, self.mass, self.particles, dim=dim)\n",
    "\n",
    "        def coords(self):\n",
    "            return self.particles[:, :, 0]\n",
    "\n",
    "    # Initialize simulation and animation\n",
    "    simu = SolarSystemSim(mass, bodies, dt)\n",
    "    anim = Animation(simu, axis=[-1.5e11, 1.5e11, -1.5e11, 1.5e11, -1.5e11, 1.5e11], size=[800, 800], dim=dim)\n",
    "    anim.main_loop()\n"
   ]
  }
 ],
 "metadata": {
  "kernelspec": {
   "display_name": ".venv",
   "language": "python",
   "name": "python3"
  },
  "language_info": {
   "codemirror_mode": {
    "name": "ipython",
    "version": 3
   },
   "file_extension": ".py",
   "mimetype": "text/x-python",
   "name": "python",
   "nbconvert_exporter": "python",
   "pygments_lexer": "ipython3",
   "version": "3.12.7"
  }
 },
 "nbformat": 4,
 "nbformat_minor": 2
}
